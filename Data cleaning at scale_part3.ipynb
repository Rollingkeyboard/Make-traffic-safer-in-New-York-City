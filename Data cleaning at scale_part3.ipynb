{
 "cells": [
  {
   "cell_type": "code",
   "execution_count": 1,
   "id": "7664288a",
   "metadata": {},
   "outputs": [],
   "source": [
    "%matplotlib inline\n",
    "import requests\n",
    "import matplotlib.pyplot as plt\n",
    "import numpy as np\n",
    "import pandas as pd\n",
    "from scipy.signal import savgol_filter\n",
    "import csv\n",
    "from openclean.data.load import dataset\n",
    "from openclean.data.source.socrata import Socrata\n",
    "from openclean.profiling.dataset import dataset_profile"
   ]
  },
  {
   "cell_type": "markdown",
   "id": "a5109f8d",
   "metadata": {},
   "source": [
    "# Apply the techniques you used for Part 1 and measure their effectiveness"
   ]
  },
  {
   "cell_type": "code",
   "execution_count": 2,
   "id": "74a2a48e",
   "metadata": {},
   "outputs": [
    {
     "name": "stdout",
     "output_type": "stream",
     "text": [
      "0.6870357732286718 0.9999414288665457\n"
     ]
    }
   ],
   "source": [
    "# There are 1838945 rows in origial dataset and 1263421 rows after cleaned.\n",
    "ori_data_cnt, cleaned_data_cnt = 1838945, 1263421\n",
    "\n",
    "# remove invalid data type. e.g.\n",
    "valid_data_cnt = 1263347\n",
    "\n",
    "precision = cleaned_data_cnt / ori_data_cnt\n",
    "recall = valid_data_cnt / cleaned_data_cnt\n",
    "\n",
    "print(precision, recall)"
   ]
  },
  {
   "cell_type": "markdown",
   "id": "daeadbc5",
   "metadata": {},
   "source": [
    "## Data cleaning target\n",
    "Improve/refine your techniques to cover the new data and compare its effectiveness with your original approach.\n",
    "\n",
    "We removed all invalid data include unaccepted data type and blank cell. \n",
    "\n",
    "To improve our cleaning stratagy, we are going to fill empty cell by 'Unspecified', convert address under naming convention, standardlizate all datetime fields.\n",
    "\n",
    "Example，\n",
    "\n",
    "Collision reason:\n",
    "    Unattention,\n",
    "    ...\n",
    "    \n",
    "Address: \n",
    "    Street: 181 East street\n",
    "    City: New York\n",
    "    State: NY\n",
    "    Zipcode: 10010\n",
    "    \n",
    "Date: 2021-12-09 (yyyy-MM-DD)\n",
    "Time: 16:44:00 (hh:mm:ss)\n"
   ]
  },
  {
   "cell_type": "code",
   "execution_count": 16,
   "id": "3bbd8f0f",
   "metadata": {},
   "outputs": [
    {
     "name": "stdout",
     "output_type": "stream",
     "text": [
      "{'Staten Islant': [10301, 10302, 10303, 10304, 10305, 10306, 10307, 10308, 10309, 10310, 10311, 10312, 10314, 10301, 10302, 10303, 10304, 10305, 10306, 10307, 10308, 10309, 10310, 10311, 10312, 10314], 'Queens': [11004, 11101, 11102, 11103, 11104, 11105, 11106, 11109, 11351, 11354, 11355, 11356, 11357, 11358, 11359, 11360, 11361, 11362, 11363, 11364, 11365, 11366, 11367, 11368, 11369, 11370, 11371, 11372, 11373, 11374, 11375, 11377, 11378, 11379, 11385, 11411, 11412, 11413, 11414, 11415, 11416, 11417, 11418, 11419, 11420, 11421, 11422, 11423, 11426, 11427, 11428, 11429, 11430, 11432, 11433, 11434, 11435, 11436, 11691, 11692, 11693, 11694, 11697, 11101, 11102, 11103, 11004, 11104, 11105, 11106, 11109, 11351, 11354, 11355, 11356, 11357, 11358, 11359, 11360, 11361, 11362, 11363, 11364, 11365, 11366, 11367, 11368, 11369, 11370, 11371, 11372, 11373, 11374, 11375, 11377, 11378, 11379, 11385, 11411, 11412, 11413, 11414, 11415, 11416, 11417, 11418, 11419, 11420, 11421, 11422, 11423, 11426, 11427, 11428, 11429, 11430, 11432, 11433, 11434, 11435, 11436, 11691, 11692, 11693, 11694, 11697], 'Manhattan': [10001, 10002, 10003, 10004, 10005, 10006, 10007, 10009, 10010, 10011, 10012, 10013, 10014, 10015, 10016, 10017, 10018, 10019, 10020, 10021, 10022, 10023, 10024, 10025, 10026, 10027, 10028, 10029, 10030, 10031, 10032, 10033, 10034, 10035, 10036, 10037, 10038, 10039, 10040, 10041, 10044, 10045, 10048, 10055, 10060, 10069, 10090, 10095, 10098, 10099, 10103, 10104, 10105, 10106, 10107, 10110, 10111, 10112, 10115, 10118, 10119, 10120, 10121, 10122, 10123, 10128, 10151, 10152, 10153, 10154, 10155, 10158, 10161, 10162, 10165, 10166, 10167, 10168, 10169, 10170, 10171, 10172, 10173, 10174, 10175, 10176, 10177, 10178, 10199, 10270, 10271, 10278, 10279, 10280, 10281, 10282, 10001, 10002, 10003, 10004, 10005, 10006, 10007, 10009, 10010, 10011, 10012, 10013, 10014, 10015, 10016, 10017, 10018, 10019, 10020, 10021, 10022, 10023, 10024, 10025, 10026, 10027, 10028, 10029, 10030, 10031, 10032, 10033, 10034, 10035, 10036, 10037, 10038, 10039, 10040, 10041, 10044, 10045, 10048, 10055, 10060, 10069, 10090, 10095, 10098, 10099, 10103, 10104, 10105, 10106, 10107, 10110, 10111, 10112, 10115, 10118, 10119, 10120, 10121, 10122, 10123, 10128, 10151, 10152, 10153, 10154, 10155, 10158, 10161, 10162, 10165, 10166, 10167, 10168, 10169, 10170, 10171, 10172, 10173, 10174, 10175, 10176, 10177, 10178, 10199, 10270, 10271, 10278, 10279, 10280, 10281, 10282], 'Bronx': [10451, 10452, 10453, 10454, 10455, 10456, 10457, 10458, 10459, 10460, 10461, 10462, 10463, 10464, 10465, 10466, 10467, 10468, 10469, 10470, 10471, 10472, 10473, 10474, 10475, 10451, 10452, 10453, 10454, 10455, 10456, 10457, 10458, 10459, 10460, 10461, 10462, 10463, 10464, 10465, 10466, 10467, 10468, 10469, 10470, 10471, 10472, 10473, 10474, 10475]}\n"
     ]
    }
   ],
   "source": [
    "# Add zipcode reference\n",
    "\n",
    "nyc_zipcode_ref = {\n",
    "    'Staten Islant':[10301,10302,10303,10304,10305,10306,10307,10308,10309,10310,10311,10312,\\\n",
    "                      10314,10301,10302,10303,10304,10305,10306,10307,10308,10309,10310,10311,\\\n",
    "                      10312,10314],\n",
    "    'Queens':[11004,11101,11102,11103,11104,11105,11106,11109,11351,11354,11355,11356,11357,11358,\\\n",
    "              11359,11360,11361,11362,11363,11364,11365,11366,11367,11368,11369,11370,11371,11372,\\\n",
    "              11373,11374,11375,11377,11378,11379,11385,11411,11412,11413,11414,11415,11416,11417,\\\n",
    "              11418,11419,11420,11421,11422,11423,11426,11427,11428,11429,11430,11432,11433,11434,\\\n",
    "              11435,11436,11691,11692,11693,11694,11697,11101,11102,11103,11004,11104,11105,11106,\\\n",
    "              11109,11351,11354,11355,11356,11357,11358,11359,11360,11361,11362,11363,11364,11365,\\\n",
    "              11366,11367,11368,11369,11370,11371,11372,11373,11374,11375,11377,11378,11379,11385,\\\n",
    "              11411,11412,11413,11414,11415,11416,11417,11418,11419,11420,11421,11422,11423,11426,\\\n",
    "              11427,11428,11429,11430,11432,11433,11434,11435,11436,11691,11692,11693,11694,11697], \n",
    "    'Manhattan':[10001,10002,10003,10004,10005,10006,10007,10009,10010,10011,10012,10013,10014,10015,\\\n",
    "                 10016,10017,10018,10019,10020,10021,10022,10023,10024,10025,10026,10027,10028,10029,\\\n",
    "                 10030,10031,10032,10033,10034,10035,10036,10037,10038,10039,10040,10041,10044,10045,\\\n",
    "                 10048,10055,10060,10069,10090,10095,10098,10099,10103,10104,10105,10106,10107,10110,\\\n",
    "                 10111,10112,10115,10118,10119,10120,10121,10122,10123,10128,10151,10152,10153,10154,\\\n",
    "                 10155,10158,10161,10162,10165,10166,10167,10168,10169,10170,10171,10172,10173,10174,\\\n",
    "                 10175,10176,10177,10178,10199,10270,10271,10278,10279,10280,10281,10282,10001,10002,\\\n",
    "                 10003,10004,10005,10006,10007,10009,10010,10011,10012,10013,10014,10015,10016,10017,\\\n",
    "                 10018,10019,10020,10021,10022,10023,10024,10025,10026,10027,10028,10029,10030,10031,\\\n",
    "                 10032,10033,10034,10035,10036,10037,10038,10039,10040,10041,10044,10045,10048,10055,\\\n",
    "                 10060,10069,10090,10095,10098,10099,10103,10104,10105,10106,10107,10110,10111,10112,\\\n",
    "                 10115,10118,10119,10120,10121,10122,10123,10128,10151,10152,10153,10154,10155,10158,\\\n",
    "                 10161,10162,10165,10166,10167,10168,10169,10170,10171,10172,10173,10174,10175,10176,\\\n",
    "                 10177,10178,10199,10270,10271,10278,10279,10280,10281,10282],\n",
    "    'Bronx':[10451,10452,10453,10454,10455,10456,10457,10458,10459,10460,10461,10462,10463,10464,10465,\\\n",
    "             10466,10467,10468,10469,10470,10471,10472,10473,10474,10475,10451,10452,10453,10454,10455,\\\n",
    "             10456,10457,10458,10459,10460,10461,10462,10463,10464,10465,10466,10467,10468,10469,10470,\\\n",
    "             10471,10472,10473,10474,10475]\n",
    "    }\n",
    "\n",
    "print(nyc_zipcode_ref)"
   ]
  },
  {
   "cell_type": "markdown",
   "id": "91a0ac8c",
   "metadata": {},
   "source": [
    "## Cleaning column: BOROUGH    \n",
    "\n",
    "Source dataset:\n",
    "https://data.cityofnewyork.us/Transportation/Automated-Traffic-Volume-Counts/7ym2-wayt\n",
    "\n",
    "Column name: Boro\n",
    "\n",
    "Origial:\n",
    "Delete it if it was empty or invalid Borough\n",
    "\n",
    "Improvement:\n",
    "Fill 'Unspecified' category"
   ]
  },
  {
   "cell_type": "code",
   "execution_count": 4,
   "id": "c0941965",
   "metadata": {},
   "outputs": [
    {
     "ename": "FileNotFoundError",
     "evalue": "[Errno 2] No such file or directory: 'data/Automated_Traffic_Volume_Counts.csv'",
     "output_type": "error",
     "traceback": [
      "\u001b[1;31m---------------------------------------------------------------------------\u001b[0m",
      "\u001b[1;31mFileNotFoundError\u001b[0m                         Traceback (most recent call last)",
      "\u001b[1;32m~\\AppData\\Local\\Temp/ipykernel_25960/3545564331.py\u001b[0m in \u001b[0;36m<module>\u001b[1;34m\u001b[0m\n\u001b[0;32m      1\u001b[0m \u001b[0mdatafile\u001b[0m \u001b[1;33m=\u001b[0m \u001b[1;34m\"data/Automated_Traffic_Volume_Counts.csv\"\u001b[0m\u001b[1;33m\u001b[0m\u001b[1;33m\u001b[0m\u001b[0m\n\u001b[0;32m      2\u001b[0m \u001b[1;31m# load the file in memory\u001b[0m\u001b[1;33m\u001b[0m\u001b[1;33m\u001b[0m\u001b[0m\n\u001b[1;32m----> 3\u001b[1;33m \u001b[0mds\u001b[0m \u001b[1;33m=\u001b[0m \u001b[0mdataset\u001b[0m\u001b[1;33m(\u001b[0m\u001b[0mdatafile\u001b[0m\u001b[1;33m)\u001b[0m\u001b[1;33m\u001b[0m\u001b[1;33m\u001b[0m\u001b[0m\n\u001b[0m",
      "\u001b[1;32m~\\.conda\\envs\\openclean\\lib\\site-packages\\openclean\\data\\load.py\u001b[0m in \u001b[0;36mdataset\u001b[1;34m(filename, header, delim, compressed, typecast, none_is, encoding)\u001b[0m\n\u001b[0;32m     66\u001b[0m         \u001b[0mencoding\u001b[0m\u001b[1;33m=\u001b[0m\u001b[0mencoding\u001b[0m\u001b[1;33m\u001b[0m\u001b[1;33m\u001b[0m\u001b[0m\n\u001b[0;32m     67\u001b[0m     )\n\u001b[1;32m---> 68\u001b[1;33m     \u001b[1;32mwith\u001b[0m \u001b[0mfile\u001b[0m\u001b[1;33m.\u001b[0m\u001b[0mopen\u001b[0m\u001b[1;33m(\u001b[0m\u001b[1;33m)\u001b[0m \u001b[1;32mas\u001b[0m \u001b[0mreader\u001b[0m\u001b[1;33m:\u001b[0m\u001b[1;33m\u001b[0m\u001b[1;33m\u001b[0m\u001b[0m\n\u001b[0m\u001b[0;32m     69\u001b[0m         \u001b[0mdata\u001b[0m\u001b[1;33m,\u001b[0m \u001b[0mindex\u001b[0m \u001b[1;33m=\u001b[0m \u001b[0mlist\u001b[0m\u001b[1;33m(\u001b[0m\u001b[1;33m)\u001b[0m\u001b[1;33m,\u001b[0m \u001b[0mlist\u001b[0m\u001b[1;33m(\u001b[0m\u001b[1;33m)\u001b[0m\u001b[1;33m\u001b[0m\u001b[1;33m\u001b[0m\u001b[0m\n\u001b[0;32m     70\u001b[0m         \u001b[1;32mfor\u001b[0m \u001b[0m_\u001b[0m\u001b[1;33m,\u001b[0m \u001b[0mrowid\u001b[0m\u001b[1;33m,\u001b[0m \u001b[0mrow\u001b[0m \u001b[1;32min\u001b[0m \u001b[0mreader\u001b[0m\u001b[1;33m:\u001b[0m\u001b[1;33m\u001b[0m\u001b[1;33m\u001b[0m\u001b[0m\n",
      "\u001b[1;32m~\\.conda\\envs\\openclean\\lib\\site-packages\\histore\\document\\csv\\base.py\u001b[0m in \u001b[0;36mopen\u001b[1;34m(self)\u001b[0m\n\u001b[0;32m    181\u001b[0m         \u001b[0mhistore\u001b[0m\u001b[1;33m.\u001b[0m\u001b[0mdocument\u001b[0m\u001b[1;33m.\u001b[0m\u001b[0mcsv\u001b[0m\u001b[1;33m.\u001b[0m\u001b[0mbase\u001b[0m\u001b[1;33m.\u001b[0m\u001b[0mCSVIterator\u001b[0m\u001b[1;33m\u001b[0m\u001b[1;33m\u001b[0m\u001b[0m\n\u001b[0;32m    182\u001b[0m         \"\"\"\n\u001b[1;32m--> 183\u001b[1;33m         return CSVIterator(\n\u001b[0m\u001b[0;32m    184\u001b[0m             \u001b[0mfilename\u001b[0m\u001b[1;33m=\u001b[0m\u001b[0mself\u001b[0m\u001b[1;33m.\u001b[0m\u001b[0mfilename\u001b[0m\u001b[1;33m,\u001b[0m\u001b[1;33m\u001b[0m\u001b[1;33m\u001b[0m\u001b[0m\n\u001b[0;32m    185\u001b[0m             \u001b[0mdelim\u001b[0m\u001b[1;33m=\u001b[0m\u001b[0mself\u001b[0m\u001b[1;33m.\u001b[0m\u001b[0mdelim\u001b[0m\u001b[1;33m,\u001b[0m\u001b[1;33m\u001b[0m\u001b[1;33m\u001b[0m\u001b[0m\n",
      "\u001b[1;32m~\\.conda\\envs\\openclean\\lib\\site-packages\\histore\\document\\csv\\base.py\u001b[0m in \u001b[0;36m__init__\u001b[1;34m(self, filename, delim, compressed, quotechar, encoding, none_is, skip_header)\u001b[0m\n\u001b[0;32m     48\u001b[0m             \u001b[0mSkip\u001b[0m \u001b[0mfirst\u001b[0m \u001b[0mrow\u001b[0m \u001b[1;32mif\u001b[0m \u001b[0mthe\u001b[0m \u001b[0mCSV\u001b[0m \u001b[0mfile\u001b[0m \u001b[0mcontains\u001b[0m \u001b[0mheader\u001b[0m \u001b[0minformation\u001b[0m\u001b[1;33m.\u001b[0m\u001b[1;33m\u001b[0m\u001b[1;33m\u001b[0m\u001b[0m\n\u001b[0;32m     49\u001b[0m         \"\"\"\n\u001b[1;32m---> 50\u001b[1;33m         self.reader = CSVReader(\n\u001b[0m\u001b[0;32m     51\u001b[0m             \u001b[0mfilename\u001b[0m\u001b[1;33m=\u001b[0m\u001b[0mfilename\u001b[0m\u001b[1;33m,\u001b[0m\u001b[1;33m\u001b[0m\u001b[1;33m\u001b[0m\u001b[0m\n\u001b[0;32m     52\u001b[0m             \u001b[0mdelim\u001b[0m\u001b[1;33m=\u001b[0m\u001b[0mdelim\u001b[0m\u001b[1;33m,\u001b[0m\u001b[1;33m\u001b[0m\u001b[1;33m\u001b[0m\u001b[0m\n",
      "\u001b[1;32m~\\.conda\\envs\\openclean\\lib\\site-packages\\histore\\document\\csv\\reader.py\u001b[0m in \u001b[0;36m__init__\u001b[1;34m(self, filename, delim, compressed, quotechar, encoding, none_is)\u001b[0m\n\u001b[0;32m     48\u001b[0m             \u001b[0mself\u001b[0m\u001b[1;33m.\u001b[0m\u001b[0mfile\u001b[0m \u001b[1;33m=\u001b[0m \u001b[0mgzip\u001b[0m\u001b[1;33m.\u001b[0m\u001b[0mopen\u001b[0m\u001b[1;33m(\u001b[0m\u001b[0mfilename\u001b[0m\u001b[1;33m,\u001b[0m \u001b[1;34m'rt'\u001b[0m\u001b[1;33m)\u001b[0m\u001b[1;33m\u001b[0m\u001b[1;33m\u001b[0m\u001b[0m\n\u001b[0;32m     49\u001b[0m         \u001b[1;32melse\u001b[0m\u001b[1;33m:\u001b[0m\u001b[1;33m\u001b[0m\u001b[1;33m\u001b[0m\u001b[0m\n\u001b[1;32m---> 50\u001b[1;33m             \u001b[0mself\u001b[0m\u001b[1;33m.\u001b[0m\u001b[0mfile\u001b[0m \u001b[1;33m=\u001b[0m \u001b[0mopen\u001b[0m\u001b[1;33m(\u001b[0m\u001b[0mfilename\u001b[0m\u001b[1;33m,\u001b[0m \u001b[1;34m'rt'\u001b[0m\u001b[1;33m,\u001b[0m \u001b[0mencoding\u001b[0m\u001b[1;33m=\u001b[0m\u001b[0mencoding\u001b[0m\u001b[1;33m)\u001b[0m\u001b[1;33m\u001b[0m\u001b[1;33m\u001b[0m\u001b[0m\n\u001b[0m\u001b[0;32m     51\u001b[0m         \u001b[1;31m# Open CSV reader.\u001b[0m\u001b[1;33m\u001b[0m\u001b[1;33m\u001b[0m\u001b[0m\n\u001b[0;32m     52\u001b[0m         \u001b[0mdelim\u001b[0m \u001b[1;33m=\u001b[0m \u001b[0mdelim\u001b[0m \u001b[1;32mif\u001b[0m \u001b[0mdelim\u001b[0m \u001b[1;32mis\u001b[0m \u001b[1;32mnot\u001b[0m \u001b[1;32mNone\u001b[0m \u001b[1;32melse\u001b[0m \u001b[1;34m','\u001b[0m\u001b[1;33m\u001b[0m\u001b[1;33m\u001b[0m\u001b[0m\n",
      "\u001b[1;31mFileNotFoundError\u001b[0m: [Errno 2] No such file or directory: 'data/Automated_Traffic_Volume_Counts.csv'"
     ]
    }
   ],
   "source": [
    "datafile = \"data/Automated_Traffic_Volume_Counts.csv\"\n",
    "# load the file in memory\n",
    "ds = dataset(datafile)\n"
   ]
  },
  {
   "cell_type": "code",
   "execution_count": 7,
   "id": "6d346417",
   "metadata": {},
   "outputs": [],
   "source": [
    "from openclean.function.value.null import is_empty\n",
    "from openclean.operator.transform.update import update\n",
    "\n",
    "ds = update(\n",
    "    ds, \n",
    "    [\"Boro\"], \n",
    "    lambda x: \"Unspecified\" if is_empty(x) else x\n",
    "    )"
   ]
  },
  {
   "cell_type": "markdown",
   "id": "fc33ac53",
   "metadata": {},
   "source": [
    "## Cleaning column: BOROUGH \n",
    "\n",
    "Source dataset:\n",
    "https://data.cityofnewyork.us/Transportation/Traffic-Signal-and-All-Way-Stop-Study-Requests/w76s-c5u4\n",
    "\n",
    "Column name: Borough\n",
    "\n",
    "Origial:\n",
    "Delete it if it was empty or invalid Borough\n",
    "\n",
    "Improvement:\n",
    "Fill 'Unspecified' category"
   ]
  },
  {
   "cell_type": "code",
   "execution_count": 18,
   "id": "ba5a6e26",
   "metadata": {},
   "outputs": [
    {
     "ename": "UnicodeDecodeError",
     "evalue": "'gbk' codec can't decode byte 0xa6 in position 7219: illegal multibyte sequence",
     "output_type": "error",
     "traceback": [
      "\u001b[1;31m---------------------------------------------------------------------------\u001b[0m",
      "\u001b[1;31mUnicodeDecodeError\u001b[0m                        Traceback (most recent call last)",
      "\u001b[1;32m~\\AppData\\Local\\Temp/ipykernel_13588/2938428742.py\u001b[0m in \u001b[0;36m<module>\u001b[1;34m\u001b[0m\n\u001b[0;32m      1\u001b[0m \u001b[0mdatafile\u001b[0m \u001b[1;33m=\u001b[0m \u001b[1;34m\"data/Traffic_Signal_and_All-Way_Stop_Study_Requests.csv\"\u001b[0m\u001b[1;33m\u001b[0m\u001b[1;33m\u001b[0m\u001b[0m\n\u001b[0;32m      2\u001b[0m \u001b[1;31m# load the file in memory\u001b[0m\u001b[1;33m\u001b[0m\u001b[1;33m\u001b[0m\u001b[0m\n\u001b[1;32m----> 3\u001b[1;33m \u001b[0mds\u001b[0m \u001b[1;33m=\u001b[0m \u001b[0mdataset\u001b[0m\u001b[1;33m(\u001b[0m\u001b[0mdatafile\u001b[0m\u001b[1;33m)\u001b[0m\u001b[1;33m\u001b[0m\u001b[1;33m\u001b[0m\u001b[0m\n\u001b[0m",
      "\u001b[1;32m~\\.conda\\envs\\openclean\\lib\\site-packages\\openclean\\data\\load.py\u001b[0m in \u001b[0;36mdataset\u001b[1;34m(filename, header, delim, compressed, typecast, none_is, encoding)\u001b[0m\n\u001b[0;32m     68\u001b[0m     \u001b[1;32mwith\u001b[0m \u001b[0mfile\u001b[0m\u001b[1;33m.\u001b[0m\u001b[0mopen\u001b[0m\u001b[1;33m(\u001b[0m\u001b[1;33m)\u001b[0m \u001b[1;32mas\u001b[0m \u001b[0mreader\u001b[0m\u001b[1;33m:\u001b[0m\u001b[1;33m\u001b[0m\u001b[1;33m\u001b[0m\u001b[0m\n\u001b[0;32m     69\u001b[0m         \u001b[0mdata\u001b[0m\u001b[1;33m,\u001b[0m \u001b[0mindex\u001b[0m \u001b[1;33m=\u001b[0m \u001b[0mlist\u001b[0m\u001b[1;33m(\u001b[0m\u001b[1;33m)\u001b[0m\u001b[1;33m,\u001b[0m \u001b[0mlist\u001b[0m\u001b[1;33m(\u001b[0m\u001b[1;33m)\u001b[0m\u001b[1;33m\u001b[0m\u001b[1;33m\u001b[0m\u001b[0m\n\u001b[1;32m---> 70\u001b[1;33m         \u001b[1;32mfor\u001b[0m \u001b[0m_\u001b[0m\u001b[1;33m,\u001b[0m \u001b[0mrowid\u001b[0m\u001b[1;33m,\u001b[0m \u001b[0mrow\u001b[0m \u001b[1;32min\u001b[0m \u001b[0mreader\u001b[0m\u001b[1;33m:\u001b[0m\u001b[1;33m\u001b[0m\u001b[1;33m\u001b[0m\u001b[0m\n\u001b[0m\u001b[0;32m     71\u001b[0m             \u001b[1;32mif\u001b[0m \u001b[0mtypecast\u001b[0m \u001b[1;32mis\u001b[0m \u001b[1;32mnot\u001b[0m \u001b[1;32mNone\u001b[0m\u001b[1;33m:\u001b[0m\u001b[1;33m\u001b[0m\u001b[1;33m\u001b[0m\u001b[0m\n\u001b[0;32m     72\u001b[0m                 \u001b[0mrow\u001b[0m \u001b[1;33m=\u001b[0m \u001b[1;33m[\u001b[0m\u001b[0mtypecast\u001b[0m\u001b[1;33m.\u001b[0m\u001b[0mcast\u001b[0m\u001b[1;33m(\u001b[0m\u001b[0mv\u001b[0m\u001b[1;33m)\u001b[0m \u001b[1;32mfor\u001b[0m \u001b[0mv\u001b[0m \u001b[1;32min\u001b[0m \u001b[0mrow\u001b[0m\u001b[1;33m]\u001b[0m\u001b[1;33m\u001b[0m\u001b[1;33m\u001b[0m\u001b[0m\n",
      "\u001b[1;32m~\\.conda\\envs\\openclean\\lib\\site-packages\\histore\\document\\base.py\u001b[0m in \u001b[0;36m__next__\u001b[1;34m(self)\u001b[0m\n\u001b[0;32m     67\u001b[0m         \u001b[0mtuple\u001b[0m \u001b[0mof\u001b[0m \u001b[0mint\u001b[0m\u001b[1;33m,\u001b[0m \u001b[0mhistore\u001b[0m\u001b[1;33m.\u001b[0m\u001b[0mdocument\u001b[0m\u001b[1;33m.\u001b[0m\u001b[0mbase\u001b[0m\u001b[1;33m.\u001b[0m\u001b[0mRowIndex\u001b[0m\u001b[1;33m,\u001b[0m \u001b[0mhistore\u001b[0m\u001b[1;33m.\u001b[0m\u001b[0mdocument\u001b[0m\u001b[1;33m.\u001b[0m\u001b[0mbase\u001b[0m\u001b[1;33m.\u001b[0m\u001b[0mDataRow\u001b[0m\u001b[1;33m\u001b[0m\u001b[1;33m\u001b[0m\u001b[0m\n\u001b[0;32m     68\u001b[0m         \"\"\"\n\u001b[1;32m---> 69\u001b[1;33m         \u001b[1;32mreturn\u001b[0m \u001b[0mself\u001b[0m\u001b[1;33m.\u001b[0m\u001b[0mnext\u001b[0m\u001b[1;33m(\u001b[0m\u001b[1;33m)\u001b[0m\u001b[1;33m\u001b[0m\u001b[1;33m\u001b[0m\u001b[0m\n\u001b[0m\u001b[0;32m     70\u001b[0m \u001b[1;33m\u001b[0m\u001b[0m\n\u001b[0;32m     71\u001b[0m     \u001b[1;33m@\u001b[0m\u001b[0mabstractmethod\u001b[0m\u001b[1;33m\u001b[0m\u001b[1;33m\u001b[0m\u001b[0m\n",
      "\u001b[1;32m~\\.conda\\envs\\openclean\\lib\\site-packages\\histore\\document\\csv\\base.py\u001b[0m in \u001b[0;36mnext\u001b[1;34m(self)\u001b[0m\n\u001b[0;32m     78\u001b[0m         \"\"\"\n\u001b[0;32m     79\u001b[0m         \u001b[1;31m# Get the row values.\u001b[0m\u001b[1;33m\u001b[0m\u001b[1;33m\u001b[0m\u001b[0m\n\u001b[1;32m---> 80\u001b[1;33m         \u001b[0mvalues\u001b[0m \u001b[1;33m=\u001b[0m \u001b[0mnext\u001b[0m\u001b[1;33m(\u001b[0m\u001b[0mself\u001b[0m\u001b[1;33m.\u001b[0m\u001b[0mreader\u001b[0m\u001b[1;33m)\u001b[0m\u001b[1;33m\u001b[0m\u001b[1;33m\u001b[0m\u001b[0m\n\u001b[0m\u001b[0;32m     81\u001b[0m         \u001b[1;31m# Increment the row counter.\u001b[0m\u001b[1;33m\u001b[0m\u001b[1;33m\u001b[0m\u001b[0m\n\u001b[0;32m     82\u001b[0m         \u001b[0mrowidx\u001b[0m \u001b[1;33m=\u001b[0m \u001b[0mself\u001b[0m\u001b[1;33m.\u001b[0m\u001b[0m_rowindex\u001b[0m\u001b[1;33m\u001b[0m\u001b[1;33m\u001b[0m\u001b[0m\n",
      "\u001b[1;32m~\\.conda\\envs\\openclean\\lib\\site-packages\\histore\\document\\csv\\reader.py\u001b[0m in \u001b[0;36m__next__\u001b[1;34m(self)\u001b[0m\n\u001b[0;32m     78\u001b[0m         \u001b[1;31m# of the file is reached.\u001b[0m\u001b[1;33m\u001b[0m\u001b[1;33m\u001b[0m\u001b[0m\n\u001b[0;32m     79\u001b[0m         \u001b[1;32mtry\u001b[0m\u001b[1;33m:\u001b[0m\u001b[1;33m\u001b[0m\u001b[1;33m\u001b[0m\u001b[0m\n\u001b[1;32m---> 80\u001b[1;33m             \u001b[0mrow\u001b[0m \u001b[1;33m=\u001b[0m \u001b[0mnext\u001b[0m\u001b[1;33m(\u001b[0m\u001b[0mself\u001b[0m\u001b[1;33m.\u001b[0m\u001b[0mreader\u001b[0m\u001b[1;33m)\u001b[0m\u001b[1;33m\u001b[0m\u001b[1;33m\u001b[0m\u001b[0m\n\u001b[0m\u001b[0;32m     81\u001b[0m             \u001b[1;32mif\u001b[0m \u001b[0mself\u001b[0m\u001b[1;33m.\u001b[0m\u001b[0mnone_is\u001b[0m \u001b[1;32mis\u001b[0m \u001b[1;32mnot\u001b[0m \u001b[1;32mNone\u001b[0m\u001b[1;33m:\u001b[0m\u001b[1;33m\u001b[0m\u001b[1;33m\u001b[0m\u001b[0m\n\u001b[0;32m     82\u001b[0m                 \u001b[0mrow\u001b[0m \u001b[1;33m=\u001b[0m \u001b[1;33m[\u001b[0m\u001b[0mv\u001b[0m \u001b[1;32mif\u001b[0m \u001b[0mv\u001b[0m \u001b[1;33m!=\u001b[0m \u001b[0mself\u001b[0m\u001b[1;33m.\u001b[0m\u001b[0mnone_is\u001b[0m \u001b[1;32melse\u001b[0m \u001b[1;32mNone\u001b[0m \u001b[1;32mfor\u001b[0m \u001b[0mv\u001b[0m \u001b[1;32min\u001b[0m \u001b[0mrow\u001b[0m\u001b[1;33m]\u001b[0m\u001b[1;33m\u001b[0m\u001b[1;33m\u001b[0m\u001b[0m\n",
      "\u001b[1;31mUnicodeDecodeError\u001b[0m: 'gbk' codec can't decode byte 0xa6 in position 7219: illegal multibyte sequence"
     ]
    }
   ],
   "source": [
    "datafile = \"data/Traffic_Signal_and_All-Way_Stop_Study_Requests.csv\"\n",
    "# load the file in memory\n",
    "ds = dataset(datafile)\n"
   ]
  },
  {
   "cell_type": "code",
   "execution_count": null,
   "id": "15a2a91e",
   "metadata": {},
   "outputs": [],
   "source": [
    "from openclean.function.value.null import is_empty\n",
    "from openclean.operator.transform.update import update\n",
    "\n",
    "ds = update(\n",
    "    ds, \n",
    "    [\"Borough\"], \n",
    "    lambda x: \"Unspecified\" if is_empty(x) else x\n",
    "    )"
   ]
  },
  {
   "cell_type": "markdown",
   "id": "4768669d",
   "metadata": {},
   "source": [
    "## Cleaning column: BOROUGH/ZIPCODE\n",
    "\n",
    "Source dataset:\n",
    "https://data.cityofnewyork.us/City-Government/Mobile-Telecommunications-Franchise-Pole-Reservati/tbgj-tdd6\n",
    "\n",
    "Column name: Borough/Zipcode\n",
    "\n",
    "Origial:\n",
    "Delete it if it was empty or invalid Borough\n",
    "\n",
    "Improvement:\n",
    "Based on zipcode fill Borough field if this cell was empty"
   ]
  },
  {
   "cell_type": "code",
   "execution_count": 16,
   "id": "efd8be48",
   "metadata": {},
   "outputs": [],
   "source": [
    "def find_key(input_dict, value):\n",
    "    return next((k for k, v in input_dict.items() if v == value), None)"
   ]
  },
  {
   "cell_type": "code",
   "execution_count": 17,
   "id": "8c6c9fef",
   "metadata": {},
   "outputs": [
    {
     "ename": "UnicodeDecodeError",
     "evalue": "'gbk' codec can't decode byte 0x94 in position 8122: illegal multibyte sequence",
     "output_type": "error",
     "traceback": [
      "\u001b[1;31m---------------------------------------------------------------------------\u001b[0m",
      "\u001b[1;31mUnicodeDecodeError\u001b[0m                        Traceback (most recent call last)",
      "\u001b[1;32m~\\AppData\\Local\\Temp/ipykernel_13588/2485686784.py\u001b[0m in \u001b[0;36m<module>\u001b[1;34m\u001b[0m\n\u001b[0;32m      1\u001b[0m \u001b[0mdatafile\u001b[0m \u001b[1;33m=\u001b[0m \u001b[1;34m\"data/Mobile_Telecommunications_Franchise_Pole_Reservation_Locations.csv\"\u001b[0m\u001b[1;33m\u001b[0m\u001b[1;33m\u001b[0m\u001b[0m\n\u001b[0;32m      2\u001b[0m \u001b[1;31m# load the file in memory\u001b[0m\u001b[1;33m\u001b[0m\u001b[1;33m\u001b[0m\u001b[0m\n\u001b[1;32m----> 3\u001b[1;33m \u001b[0mds\u001b[0m \u001b[1;33m=\u001b[0m \u001b[0mdataset\u001b[0m\u001b[1;33m(\u001b[0m\u001b[0mdatafile\u001b[0m\u001b[1;33m)\u001b[0m\u001b[1;33m\u001b[0m\u001b[1;33m\u001b[0m\u001b[0m\n\u001b[0m\u001b[0;32m      4\u001b[0m \u001b[1;33m\u001b[0m\u001b[0m\n\u001b[0;32m      5\u001b[0m \u001b[1;33m\u001b[0m\u001b[0m\n",
      "\u001b[1;32m~\\.conda\\envs\\openclean\\lib\\site-packages\\openclean\\data\\load.py\u001b[0m in \u001b[0;36mdataset\u001b[1;34m(filename, header, delim, compressed, typecast, none_is, encoding)\u001b[0m\n\u001b[0;32m     68\u001b[0m     \u001b[1;32mwith\u001b[0m \u001b[0mfile\u001b[0m\u001b[1;33m.\u001b[0m\u001b[0mopen\u001b[0m\u001b[1;33m(\u001b[0m\u001b[1;33m)\u001b[0m \u001b[1;32mas\u001b[0m \u001b[0mreader\u001b[0m\u001b[1;33m:\u001b[0m\u001b[1;33m\u001b[0m\u001b[1;33m\u001b[0m\u001b[0m\n\u001b[0;32m     69\u001b[0m         \u001b[0mdata\u001b[0m\u001b[1;33m,\u001b[0m \u001b[0mindex\u001b[0m \u001b[1;33m=\u001b[0m \u001b[0mlist\u001b[0m\u001b[1;33m(\u001b[0m\u001b[1;33m)\u001b[0m\u001b[1;33m,\u001b[0m \u001b[0mlist\u001b[0m\u001b[1;33m(\u001b[0m\u001b[1;33m)\u001b[0m\u001b[1;33m\u001b[0m\u001b[1;33m\u001b[0m\u001b[0m\n\u001b[1;32m---> 70\u001b[1;33m         \u001b[1;32mfor\u001b[0m \u001b[0m_\u001b[0m\u001b[1;33m,\u001b[0m \u001b[0mrowid\u001b[0m\u001b[1;33m,\u001b[0m \u001b[0mrow\u001b[0m \u001b[1;32min\u001b[0m \u001b[0mreader\u001b[0m\u001b[1;33m:\u001b[0m\u001b[1;33m\u001b[0m\u001b[1;33m\u001b[0m\u001b[0m\n\u001b[0m\u001b[0;32m     71\u001b[0m             \u001b[1;32mif\u001b[0m \u001b[0mtypecast\u001b[0m \u001b[1;32mis\u001b[0m \u001b[1;32mnot\u001b[0m \u001b[1;32mNone\u001b[0m\u001b[1;33m:\u001b[0m\u001b[1;33m\u001b[0m\u001b[1;33m\u001b[0m\u001b[0m\n\u001b[0;32m     72\u001b[0m                 \u001b[0mrow\u001b[0m \u001b[1;33m=\u001b[0m \u001b[1;33m[\u001b[0m\u001b[0mtypecast\u001b[0m\u001b[1;33m.\u001b[0m\u001b[0mcast\u001b[0m\u001b[1;33m(\u001b[0m\u001b[0mv\u001b[0m\u001b[1;33m)\u001b[0m \u001b[1;32mfor\u001b[0m \u001b[0mv\u001b[0m \u001b[1;32min\u001b[0m \u001b[0mrow\u001b[0m\u001b[1;33m]\u001b[0m\u001b[1;33m\u001b[0m\u001b[1;33m\u001b[0m\u001b[0m\n",
      "\u001b[1;32m~\\.conda\\envs\\openclean\\lib\\site-packages\\histore\\document\\base.py\u001b[0m in \u001b[0;36m__next__\u001b[1;34m(self)\u001b[0m\n\u001b[0;32m     67\u001b[0m         \u001b[0mtuple\u001b[0m \u001b[0mof\u001b[0m \u001b[0mint\u001b[0m\u001b[1;33m,\u001b[0m \u001b[0mhistore\u001b[0m\u001b[1;33m.\u001b[0m\u001b[0mdocument\u001b[0m\u001b[1;33m.\u001b[0m\u001b[0mbase\u001b[0m\u001b[1;33m.\u001b[0m\u001b[0mRowIndex\u001b[0m\u001b[1;33m,\u001b[0m \u001b[0mhistore\u001b[0m\u001b[1;33m.\u001b[0m\u001b[0mdocument\u001b[0m\u001b[1;33m.\u001b[0m\u001b[0mbase\u001b[0m\u001b[1;33m.\u001b[0m\u001b[0mDataRow\u001b[0m\u001b[1;33m\u001b[0m\u001b[1;33m\u001b[0m\u001b[0m\n\u001b[0;32m     68\u001b[0m         \"\"\"\n\u001b[1;32m---> 69\u001b[1;33m         \u001b[1;32mreturn\u001b[0m \u001b[0mself\u001b[0m\u001b[1;33m.\u001b[0m\u001b[0mnext\u001b[0m\u001b[1;33m(\u001b[0m\u001b[1;33m)\u001b[0m\u001b[1;33m\u001b[0m\u001b[1;33m\u001b[0m\u001b[0m\n\u001b[0m\u001b[0;32m     70\u001b[0m \u001b[1;33m\u001b[0m\u001b[0m\n\u001b[0;32m     71\u001b[0m     \u001b[1;33m@\u001b[0m\u001b[0mabstractmethod\u001b[0m\u001b[1;33m\u001b[0m\u001b[1;33m\u001b[0m\u001b[0m\n",
      "\u001b[1;32m~\\.conda\\envs\\openclean\\lib\\site-packages\\histore\\document\\csv\\base.py\u001b[0m in \u001b[0;36mnext\u001b[1;34m(self)\u001b[0m\n\u001b[0;32m     78\u001b[0m         \"\"\"\n\u001b[0;32m     79\u001b[0m         \u001b[1;31m# Get the row values.\u001b[0m\u001b[1;33m\u001b[0m\u001b[1;33m\u001b[0m\u001b[0m\n\u001b[1;32m---> 80\u001b[1;33m         \u001b[0mvalues\u001b[0m \u001b[1;33m=\u001b[0m \u001b[0mnext\u001b[0m\u001b[1;33m(\u001b[0m\u001b[0mself\u001b[0m\u001b[1;33m.\u001b[0m\u001b[0mreader\u001b[0m\u001b[1;33m)\u001b[0m\u001b[1;33m\u001b[0m\u001b[1;33m\u001b[0m\u001b[0m\n\u001b[0m\u001b[0;32m     81\u001b[0m         \u001b[1;31m# Increment the row counter.\u001b[0m\u001b[1;33m\u001b[0m\u001b[1;33m\u001b[0m\u001b[0m\n\u001b[0;32m     82\u001b[0m         \u001b[0mrowidx\u001b[0m \u001b[1;33m=\u001b[0m \u001b[0mself\u001b[0m\u001b[1;33m.\u001b[0m\u001b[0m_rowindex\u001b[0m\u001b[1;33m\u001b[0m\u001b[1;33m\u001b[0m\u001b[0m\n",
      "\u001b[1;32m~\\.conda\\envs\\openclean\\lib\\site-packages\\histore\\document\\csv\\reader.py\u001b[0m in \u001b[0;36m__next__\u001b[1;34m(self)\u001b[0m\n\u001b[0;32m     78\u001b[0m         \u001b[1;31m# of the file is reached.\u001b[0m\u001b[1;33m\u001b[0m\u001b[1;33m\u001b[0m\u001b[0m\n\u001b[0;32m     79\u001b[0m         \u001b[1;32mtry\u001b[0m\u001b[1;33m:\u001b[0m\u001b[1;33m\u001b[0m\u001b[1;33m\u001b[0m\u001b[0m\n\u001b[1;32m---> 80\u001b[1;33m             \u001b[0mrow\u001b[0m \u001b[1;33m=\u001b[0m \u001b[0mnext\u001b[0m\u001b[1;33m(\u001b[0m\u001b[0mself\u001b[0m\u001b[1;33m.\u001b[0m\u001b[0mreader\u001b[0m\u001b[1;33m)\u001b[0m\u001b[1;33m\u001b[0m\u001b[1;33m\u001b[0m\u001b[0m\n\u001b[0m\u001b[0;32m     81\u001b[0m             \u001b[1;32mif\u001b[0m \u001b[0mself\u001b[0m\u001b[1;33m.\u001b[0m\u001b[0mnone_is\u001b[0m \u001b[1;32mis\u001b[0m \u001b[1;32mnot\u001b[0m \u001b[1;32mNone\u001b[0m\u001b[1;33m:\u001b[0m\u001b[1;33m\u001b[0m\u001b[1;33m\u001b[0m\u001b[0m\n\u001b[0;32m     82\u001b[0m                 \u001b[0mrow\u001b[0m \u001b[1;33m=\u001b[0m \u001b[1;33m[\u001b[0m\u001b[0mv\u001b[0m \u001b[1;32mif\u001b[0m \u001b[0mv\u001b[0m \u001b[1;33m!=\u001b[0m \u001b[0mself\u001b[0m\u001b[1;33m.\u001b[0m\u001b[0mnone_is\u001b[0m \u001b[1;32melse\u001b[0m \u001b[1;32mNone\u001b[0m \u001b[1;32mfor\u001b[0m \u001b[0mv\u001b[0m \u001b[1;32min\u001b[0m \u001b[0mrow\u001b[0m\u001b[1;33m]\u001b[0m\u001b[1;33m\u001b[0m\u001b[1;33m\u001b[0m\u001b[0m\n",
      "\u001b[1;31mUnicodeDecodeError\u001b[0m: 'gbk' codec can't decode byte 0x94 in position 8122: illegal multibyte sequence"
     ]
    }
   ],
   "source": [
    "datafile = \"data/Mobile_Telecommunications_Franchise_Pole_Reservation_Locations.csv\"\n",
    "# load the file in memory\n",
    "ds = dataset(datafile)\n",
    "\n",
    "\n",
    "ds = update(\n",
    "    ds, \n",
    "    [\"Borough\", \"Zipcode\"], \n",
    "    lambda x, y: (\"Unspecified\", y) if is_empty(x) and is_empty(y) else (x, y)\n",
    "    )\n",
    "ds = update(\n",
    "    ds, \n",
    "    [\"Borough\", \"Zipcode\"], \n",
    "    lambda x, y: (x, y) if not is_empty(x) else (find_key(nyc_zipcode_ref, y), y)\n",
    "    )"
   ]
  },
  {
   "cell_type": "markdown",
   "id": "5c10e778",
   "metadata": {},
   "source": [
    "## Cleaning column: CONTRIBUTING FACTOR VEHICLE 1(Collision reason)\n",
    "\n",
    "Source dataset:\n",
    "https://data.cityofnewyork.us/Public-Safety/Motor-Vehicle-Collisions-Person/f55k-p6yu\n",
    "\n",
    "Column name: Pedestrain - CONTRIBUTING_FACTOR_1\n",
    "\n",
    "Origial:\n",
    "Delete it if it was empty or invalid CONTRIBUTING_FACTOR\n",
    "\n",
    "Improvement:\n",
    "Using KNN to find most similar reason cause the collision"
   ]
  },
  {
   "cell_type": "code",
   "execution_count": 8,
   "id": "8c8e1cce",
   "metadata": {},
   "outputs": [],
   "source": [
    "from openclean.cluster.knn import knn_clusters\n",
    "from openclean.function.similarity.base import SimilarityConstraint\n",
    "from openclean.function.similarity.text import LevenshteinDistance\n",
    "from openclean.function.value.threshold import GreaterThan\n",
    "from openclean.function.eval.domain import Lookup\n",
    "\n",
    "datafile = \"data/Motor_Vehicle_Collisions_-_Person.csv\"\n",
    "# load the file in memory\n",
    "ds = dataset(datafile)\n",
    "\n",
    "\n",
    "# cleaning using cluster and mapping\n",
    "for i in range(1, 3): \n",
    "    col_name = \"CONTRIBUTING_FACTOR_{}\".format(i)\n",
    "\n",
    "    # edit distance cluster\n",
    "    clusters = knn_clusters(\n",
    "          values=ds[col_name].unique().tolist(),\n",
    "          sim=SimilarityConstraint(func=LevenshteinDistance(), pred=GreaterThan(0.8))\n",
    "          )\n",
    "\n",
    "    mapping = {}\n",
    "    for cluster in clusters: \n",
    "        mapping.update(cluster.to_mapping())\n",
    "\n",
    "    ds = update(\n",
    "          ds, \n",
    "          col_name, \n",
    "          Lookup(columns=[col_name], mapping=mapping, default=col_name)\n",
    "          )"
   ]
  },
  {
   "cell_type": "markdown",
   "id": "260816f5",
   "metadata": {},
   "source": [
    "## Cleaning column: CONTRIBUTING FACTOR VEHICLE 1(Collision reason)\n",
    "\n",
    "Source dataset:\n",
    "https://data.cityofnewyork.us/Public-Safety/Motor-Vehicle-Collisions-Vehicles/bm4k-52h4\n",
    "\n",
    "Column name: Vechicles - CONTRIBUTING_FACTOR_1\n",
    "\n",
    "Origial:\n",
    "Delete it if it was empty or invalid CONTRIBUTING_FACTOR\n",
    "\n",
    "Improvement:\n",
    "Using KNN to find most similar reason cause the collision"
   ]
  },
  {
   "cell_type": "code",
   "execution_count": null,
   "id": "0ad74a8a",
   "metadata": {},
   "outputs": [],
   "source": [
    "\n",
    "datafile = \"data/Motor_Vehicle_Collisions_-_Vehicles.csv\"\n",
    "# load the file in memory\n",
    "ds = dataset(datafile)\n",
    "\n",
    "\n",
    "# cleaning using cluster and mapping\n",
    "for i in range(1, 3): \n",
    "    col_name = \"CONTRIBUTING_FACTOR_{}\".format(i)\n",
    "\n",
    "    # edit distance cluster\n",
    "    clusters = knn_clusters(\n",
    "          values=ds[col_name].unique().tolist(),\n",
    "          sim=SimilarityConstraint(func=LevenshteinDistance(), pred=GreaterThan(0.8))\n",
    "          )\n",
    "\n",
    "    mapping = {}\n",
    "    for cluster in clusters: \n",
    "        mapping.update(cluster.to_mapping())\n",
    "\n",
    "    ds = update(\n",
    "          ds, \n",
    "          col_name, \n",
    "          Lookup(columns=[col_name], mapping=mapping, default=col_name)\n",
    "          )"
   ]
  },
  {
   "cell_type": "markdown",
   "id": "28852d77",
   "metadata": {},
   "source": [
    "## Cleaning column: VEHICLE TYPE CODE(Vechicle type)\n",
    "\n",
    "Source dataset:\n",
    "https://data.cityofnewyork.us/Transportation/Vehicle-Classification-Counts-2014-2019-/96ay-ea4r\n",
    "\n",
    "Column name: Veh Class Type\n",
    "\n",
    "Origial:\n",
    "Delete it if it was empty or invalid Veh Class Type\n",
    "\n",
    "Improvement:\n",
    "Using KNN to find most similar vehicle type"
   ]
  },
  {
   "cell_type": "code",
   "execution_count": 9,
   "id": "2b44c924",
   "metadata": {},
   "outputs": [],
   "source": [
    "datafile = \"data/Vehicle_Classification_Counts__2014-2019_.csv\"\n",
    "# load the file in memory\n",
    "ds = dataset(datafile)\n",
    "\n",
    "# cleaning letter case and null\n",
    "\n",
    "col_name = \"Veh Class Type\"\n",
    "ds = update(\n",
    "      ds, \n",
    "      col_name, \n",
    "      str.title\n",
    "      )\n",
    "\n",
    "ds = update(\n",
    "      ds, \n",
    "      col_name, \n",
    "      lambda x: \"Unknown\" if is_empty(x) else x\n",
    "      )"
   ]
  },
  {
   "cell_type": "code",
   "execution_count": 10,
   "id": "414ce24b",
   "metadata": {},
   "outputs": [],
   "source": [
    "from openclean.cluster.knn import knn_collision_clusters\n",
    "from openclean.function.similarity.text import JaroWinklerSimilarity\n",
    "\n",
    "# cleaning using cluster and mapping\n",
    "\n",
    "col_name = \"Veh Class Type\"\n",
    "\n",
    "# edit distance cluster\n",
    "clusters = knn_collision_clusters(\n",
    "       values=ds[col_name].tolist(),\n",
    "       sim=SimilarityConstraint(func=LevenshteinDistance(), pred=GreaterThan(0.7))\n",
    "     )\n",
    "\n",
    "mapping = {}\n",
    "for cluster in clusters: \n",
    "    mapping.update(cluster.to_mapping())\n",
    "\n",
    "ds = update(\n",
    "      ds, \n",
    "      col_name, \n",
    "      Lookup(columns=[col_name], mapping=mapping, default=col_name)\n",
    "      )\n",
    "\n",
    "# common substr cluster\n",
    "clusters = knn_collision_clusters(\n",
    "       values=ds[col_name].tolist(),\n",
    "       sim=SimilarityConstraint(func=JaroWinklerSimilarity(), pred=GreaterThan(0.9))\n",
    "     )\n",
    "\n",
    "mapping = {}\n",
    "for cluster in clusters: \n",
    "    mapping.update(cluster.to_mapping())\n",
    "\n",
    "ds = update(\n",
    "      ds, \n",
    "      col_name, \n",
    "      Lookup(columns=[col_name], mapping=mapping, default=col_name)\n",
    "      )"
   ]
  },
  {
   "cell_type": "code",
   "execution_count": 11,
   "id": "cc709a54",
   "metadata": {},
   "outputs": [],
   "source": [
    "# select top 20 types and only keep these types\n",
    "# all other types are regarded as unrecognizable values\n",
    "top_types = ds[\"Veh Class Type\"].value_counts().head(20).keys()\n",
    "\n",
    "col_name = \"Veh Class Type\"\n",
    "\n",
    "ds = update(\n",
    "      ds, \n",
    "      col_name, \n",
    "      lambda x: \"Unknown\" if x not in top_types else x\n",
    "      )"
   ]
  },
  {
   "cell_type": "markdown",
   "id": "52fb63cb",
   "metadata": {},
   "source": [
    "## Cleaning column: CRASH DATE/CRASH TIME\n",
    "\n",
    "Source dataset:\n",
    "https://data.cityofnewyork.us/City-Government/Parking-Violations-Issued-Fiscal-Year-2022/pvqr-7yc4\n",
    "\n",
    "Column name: Vehicle Expiration Date\n",
    "\n",
    "Origial:\n",
    "Delete it if it was empty or invalid Date\n",
    "\n",
    "Improvement:\n",
    "Convert invalid data type to datetime"
   ]
  },
  {
   "cell_type": "code",
   "execution_count": 13,
   "id": "61ecf574",
   "metadata": {},
   "outputs": [],
   "source": [
    "df = pd.read_csv('data/Parking_Violations_Issued_-_Fiscal_Year_2022.csv', dtype=str)\n",
    "df['Vehicle Expiration Date'] = pd.to_datetime(df['Vehicle Expiration Date'], format='%y%m%d', errors='coerce')\n"
   ]
  },
  {
   "cell_type": "markdown",
   "id": "d61df594",
   "metadata": {},
   "source": [
    "## Cleaning column: ON STREET NAME\n",
    "\n",
    "Source dataset:\n",
    "https://data.cityofnewyork.us/Transportation/Street-Closures-due-to-construction-activities-by-/i6b5-j7bu\n",
    "\n",
    "Column name: ONSTREETNAME\n",
    "\n",
    "Origial:\n",
    "Delete it if it was empty or invalid ONSTREETNAME\n",
    "\n",
    "Improvement:\n",
    "Using KNN to find most similar Street name"
   ]
  },
  {
   "cell_type": "code",
   "execution_count": null,
   "id": "673216fe",
   "metadata": {},
   "outputs": [],
   "source": [
    "\n",
    "datafile = \"data/Street_Closures_due_to_construction_activities_by_Block.csv\"\n",
    "# load the file in memory\n",
    "ds = dataset(datafile)\n",
    "\n",
    "col_name = \"ONSTREETNAME\"\n",
    "\n",
    "# edit distance cluster\n",
    "clusters = knn_clusters(\n",
    "      values=ds[col_name].unique().tolist(),\n",
    "      sim=SimilarityConstraint(func=LevenshteinDistance(), pred=GreaterThan(0.8))\n",
    "      )\n",
    "\n",
    "mapping = {}\n",
    "for cluster in clusters: \n",
    "    mapping.update(cluster.to_mapping())\n",
    "\n",
    "ds = update(\n",
    "      ds, \n",
    "      col_name, \n",
    "      Lookup(columns=[col_name], mapping=mapping, default=col_name)\n",
    "      )"
   ]
  },
  {
   "cell_type": "markdown",
   "id": "a5703355",
   "metadata": {},
   "source": [
    "## Cleaning column: ON STREET NAME\n",
    "\n",
    "Source dataset:\n",
    "https://data.cityofnewyork.us/Transportation/Street-Closures-due-to-construction-activities-by-/478a-yykk\n",
    "\n",
    "Column name: ONSTREETNAME\n",
    "\n",
    "Origial:\n",
    "Delete it if it was empty or invalid ONSTREETNAME\n",
    "\n",
    "Improvement:\n",
    "Using KNN to find most similar Street name"
   ]
  },
  {
   "cell_type": "code",
   "execution_count": null,
   "id": "b1e80f2b",
   "metadata": {},
   "outputs": [],
   "source": [
    "datafile = \"data/Street_Closures_due_to_construction_activities_by_Intersection.csv\"\n",
    "# load the file in memory\n",
    "ds = dataset(datafile)\n",
    "\n",
    "col_name = \"ONSTREETNAME\"\n",
    "\n",
    "# edit distance cluster\n",
    "clusters = knn_clusters(\n",
    "      values=ds[col_name].unique().tolist(),\n",
    "      sim=SimilarityConstraint(func=LevenshteinDistance(), pred=GreaterThan(0.8))\n",
    "      )\n",
    "\n",
    "mapping = {}\n",
    "for cluster in clusters: \n",
    "    mapping.update(cluster.to_mapping())\n",
    "\n",
    "ds = update(\n",
    "      ds, \n",
    "      col_name, \n",
    "      Lookup(columns=[col_name], mapping=mapping, default=col_name)\n",
    "      )"
   ]
  },
  {
   "cell_type": "markdown",
   "id": "cc2affec",
   "metadata": {},
   "source": [
    "## Cleaning column: ON STREET NAME\n",
    "\n",
    "Source dataset:\n",
    "https://data.cityofnewyork.us/Transportation/Parking-Regulation-Locations-and-Signs/xswq-wnv9\n",
    "\n",
    "Column name: main_st\n",
    "\n",
    "Origial:\n",
    "Delete it if it was empty or invalid main_st\n",
    "\n",
    "Improvement:\n",
    "Using KNN to find most similar Street name"
   ]
  },
  {
   "cell_type": "code",
   "execution_count": 19,
   "id": "9c4702e5",
   "metadata": {},
   "outputs": [],
   "source": [
    "datafile = \"data/locations.csv\"\n",
    "# load the file in memory\n",
    "ds = dataset(datafile)\n",
    "\n",
    "col_name = \"main_st\"\n",
    "\n",
    "# edit distance cluster\n",
    "clusters = knn_clusters(\n",
    "      values=ds[col_name].unique().tolist(),\n",
    "      sim=SimilarityConstraint(func=LevenshteinDistance(), pred=GreaterThan(0.7))\n",
    "      )\n",
    "\n",
    "mapping = {}\n",
    "for cluster in clusters: \n",
    "    mapping.update(cluster.to_mapping())\n",
    "\n",
    "ds = update(\n",
    "      ds, \n",
    "      col_name, \n",
    "      Lookup(columns=[col_name], mapping=mapping, default=col_name)\n",
    "      )"
   ]
  },
  {
   "cell_type": "code",
   "execution_count": null,
   "id": "7ab3ea76",
   "metadata": {},
   "outputs": [],
   "source": []
  }
 ],
 "metadata": {
  "kernelspec": {
   "display_name": "Python 3 (ipykernel)",
   "language": "python",
   "name": "python3"
  },
  "language_info": {
   "codemirror_mode": {
    "name": "ipython",
    "version": 3
   },
   "file_extension": ".py",
   "mimetype": "text/x-python",
   "name": "python",
   "nbconvert_exporter": "python",
   "pygments_lexer": "ipython3",
   "version": "3.9.7"
  }
 },
 "nbformat": 4,
 "nbformat_minor": 5
}
